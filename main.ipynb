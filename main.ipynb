{
 "cells": [
  {
   "cell_type": "code",
   "execution_count": 2,
   "metadata": {},
   "outputs": [],
   "source": [
    "import pathlib\n",
    "\n",
    "import plotly.express as px\n",
    "from jinja2 import Template\n",
    "\n",
    "MY_PLOTS = pathlib.Path('html_plots')"
   ]
  },
  {
   "cell_type": "code",
   "execution_count": 3,
   "metadata": {},
   "outputs": [],
   "source": [
    "input_template_path = pathlib.Path('template.html') \n",
    "output_html_path = pathlib.Path('elections2024.html')\n",
    "\n",
    "plotly_jinja_data = {htmlplot.stem: htmlplot.read_text(encoding='utf-8') for htmlplot in MY_PLOTS.iterdir()}\n",
    "\n",
    "with open(output_html_path, \"w\", encoding=\"utf-8\") as output_file:\n",
    "    with open(input_template_path) as template_file:\n",
    "        j2_template = Template(template_file.read())\n",
    "        output_file.write(j2_template.render(plotly_jinja_data))"
   ]
  },
  {
   "cell_type": "code",
   "execution_count": null,
   "metadata": {},
   "outputs": [],
   "source": []
  }
 ],
 "metadata": {
  "kernelspec": {
   "display_name": "thevenv",
   "language": "python",
   "name": "python3"
  },
  "language_info": {
   "codemirror_mode": {
    "name": "ipython",
    "version": 3
   },
   "file_extension": ".py",
   "mimetype": "text/x-python",
   "name": "python",
   "nbconvert_exporter": "python",
   "pygments_lexer": "ipython3",
   "version": "3.12.0"
  }
 },
 "nbformat": 4,
 "nbformat_minor": 2
}
